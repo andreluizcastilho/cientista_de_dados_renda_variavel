{
 "cells": [
  {
   "cell_type": "markdown",
   "id": "c9f68860",
   "metadata": {},
   "source": [
    "Assista estas aulas para a teoria base como complemento:\n",
    "- https://www.youtube.com/watch?v=NSrOa4qnhvk\n",
    "- https://www.youtube.com/watch?v=2vSePCL156w\n",
    "- https://www.youtube.com/watch?v=gRb4OnpeoEg\n"
   ]
  },
  {
   "cell_type": "code",
   "execution_count": null,
   "id": "823182c3",
   "metadata": {},
   "outputs": [],
   "source": [
    "# Carregando as bibliotecas\n",
    "\n",
    "import pandas as pd\n",
    "import numpy as np\n",
    "import yfinance as yf\n",
    "from plotly.subplots import make_subplots\n",
    "import plotly.graph_objects as go\n",
    "from math import sqrt\n",
    "\n",
    "from statsmodels.tsa.stattools import adfuller\n",
    "\n",
    "import statsmodels.api as sm\n",
    "from statsmodels.tsa.stattools import coint\n",
    "from statsmodels.regression.rolling import RollingOLS\n",
    "from datetime import datetime\n",
    "\n",
    "get_ipython().run_line_magic(\"matplotlib\", \"inline\")\n",
    "import warnings\n",
    "warnings.filterwarnings(\"ignore\")"
   ]
  },
  {
   "cell_type": "code",
   "execution_count": null,
   "id": "be7e8626",
   "metadata": {
    "scrolled": false
   },
   "outputs": [],
   "source": [
    "start = \"2022-06-30\"\n",
    "end = \"2022-10-31\"\n",
    "#end = datetime.today().strftime(\"%Y-%m-%d\")\n",
    "\n",
    "tickers = [\"BOVA11.SA\", \"PETR4.SA\", \"VALE\", \"ITUB4.SA\"\n",
    "           , \"CSNA3.SA\", \"BBAS3.SA\", \"WEGE3.SA\", \"B3SA3.SA\" ,  \"JBSS3.SA\"\n",
    "           , \"ITSA4.SA\", \"CMIG4.SA\", \"SBSP3.SA\", \"CCRO3.SA\", \"UGPA3.SA\"\n",
    "           , \"MULT3.SA\", \"MGLU3.SA\", \"EQTL3.SA\", \"LREN3.SA\", \"ENBR3.SA\"\n",
    "           , \"ABEV3.SA\", \"SUZB3.SA\", \"BBDC4.SA\", \"BBSE3.SA\", \"ECOR3.SA\"\n",
    "           , \"RADL3.SA\"]\n",
    "\n",
    "ativos = []\n",
    "for ticker in tickers:\n",
    "    try:\n",
    "        print(ticker)\n",
    "        cotacoes = yf.download(ticker, start, end)[\"Adj Close\"]\n",
    "        cotacoes = pd.DataFrame(cotacoes)\n",
    "        cotacoes.columns = [ticker]\n",
    "        ativos.append(cotacoes)\n",
    "    except:\n",
    "        pass\n",
    "    base_ativos = pd.concat(ativos, axis = 1)\n",
    "base_ativos.sort_index(inplace = True)\n",
    "base_ativos.head()\n",
    "base_ativos.dropna(inplace = True)"
   ]
  },
  {
   "cell_type": "code",
   "execution_count": null,
   "id": "b004ed4d",
   "metadata": {},
   "outputs": [],
   "source": [
    "base_ativos"
   ]
  },
  {
   "cell_type": "code",
   "execution_count": null,
   "id": "a793f3ca",
   "metadata": {},
   "outputs": [],
   "source": [
    "# Função para encontrar pares cointegrados\n",
    "\n",
    "def encontra_pares(base):\n",
    "    n = base.shape[1]\n",
    "    pvalor_matriz = np.ones((n, n))\n",
    "    keys = base.keys()\n",
    "    pares = []\n",
    "    for i in range(n):\n",
    "        for j in range(i+1, n):\n",
    "            a1 = base[keys[i]]\n",
    "            a2 = base[keys[j]]\n",
    "            resultado = coint(a1, a2)\n",
    "            score = resultado[0]\n",
    "            pvalor = resultado[1]\n",
    "            pvalor_matriz[i, j] = pvalor\n",
    "            if pvalor < 0.05:\n",
    "                pares.append((keys[i], keys[j]))\n",
    "    return pvalor_matriz, pares"
   ]
  },
  {
   "cell_type": "code",
   "execution_count": null,
   "id": "33509d04",
   "metadata": {},
   "outputs": [],
   "source": [
    "# Encontremos então, os pares\n",
    "\n",
    "pvalores, pares = encontra_pares(base_ativos)"
   ]
  },
  {
   "cell_type": "code",
   "execution_count": null,
   "id": "dd6a2435",
   "metadata": {},
   "outputs": [],
   "source": [
    "pares"
   ]
  },
  {
   "cell_type": "code",
   "execution_count": null,
   "id": "c3bc9522",
   "metadata": {},
   "outputs": [],
   "source": [
    "pares[25]"
   ]
  },
  {
   "cell_type": "code",
   "execution_count": null,
   "id": "774a5415",
   "metadata": {},
   "outputs": [],
   "source": [
    "a1 = pares[25][0]\n",
    "a2 = pares[25][1]"
   ]
  },
  {
   "cell_type": "code",
   "execution_count": null,
   "id": "cb8ec87d",
   "metadata": {
    "scrolled": true
   },
   "outputs": [],
   "source": [
    "x_train = sm.add_constant(base_ativos[a1])\n",
    "y_train = base_ativos[a2]\n",
    "regressao = sm.OLS(y_train, x_train).fit()\n",
    "\n",
    "print(regressao.params)\n",
    "print(\"-----------------------------\")\n",
    "print(regressao.params[a1])\n",
    "\n",
    "beta = regressao.params[a1]"
   ]
  },
  {
   "cell_type": "code",
   "execution_count": null,
   "id": "7096ed78",
   "metadata": {},
   "outputs": [],
   "source": [
    "# Esse beta preferencialmente tem que ser positivo..."
   ]
  },
  {
   "cell_type": "code",
   "execution_count": null,
   "id": "1c9545af",
   "metadata": {},
   "outputs": [],
   "source": [
    "# Normaliza o resíduo pelo z-score\n",
    "\n",
    "residuo = y_train - (regressao.params[0] + beta*x_train[a1])\n",
    "\n",
    "\n",
    "def normaliza_zscore(x):\n",
    "    return (x - x.mean())/np.std(x)\n",
    "\n",
    "\n",
    "residuo_norm = normaliza_zscore(residuo)"
   ]
  },
  {
   "cell_type": "code",
   "execution_count": null,
   "id": "55287d3d",
   "metadata": {},
   "outputs": [],
   "source": [
    "# Atenção: esta parte não está presente na aula gravada e precisa ser considerada\n",
    "\n",
    "res_mean = residuo.mean()\n",
    "res_std = np.std(residuo)"
   ]
  },
  {
   "cell_type": "code",
   "execution_count": null,
   "id": "7df3719f",
   "metadata": {},
   "outputs": [],
   "source": [
    "residuo_norm"
   ]
  },
  {
   "cell_type": "code",
   "execution_count": null,
   "id": "a9cc953a",
   "metadata": {},
   "outputs": [],
   "source": [
    "#Visualiza o z-score\n",
    "\n",
    "fig = make_subplots(rows = 1, cols = 1,\n",
    "                    shared_xaxes = True,\n",
    "                    vertical_spacing = 0.08)\n",
    "\n",
    "fig.add_trace(go.Scatter(x = residuo_norm.index\n",
    "                         , y = residuo_norm\n",
    "                         , name = \"Z Score\"\n",
    "                         ,line = dict(color = \"black\"))\n",
    "              , row = 1, col = 1)\n",
    "\n",
    "fig.add_hline(y = 2, line_width = 1, line_dash = \"dash\", line_color = \"green\")\n",
    "fig.add_hline(y = 1, line_width = 1, line_dash = \"dash\", line_color = \"green\")\n",
    "\n",
    "fig.add_hline(y = -2, line_width = 1, line_dash = \"dash\", line_color = \"red\")\n",
    "fig.add_hline(y = -1, line_width = 1, line_dash = \"dash\", line_color = \"red\")\n",
    "\n",
    "\n",
    "fig.update_layout(height = 600, width = 800\n",
    "                  , title_text = \"Z-Score Long & Short por cointegração \" + a1 + \" - \"+ a2\n",
    "                  , font_color = \"blue\"\n",
    "                  , title_font_color = \"black\"\n",
    "                  , xaxis_title = \"Tempo\"\n",
    "                  , yaxis_title = \"Z-Score\"\n",
    "                  , showlegend = False\n",
    "                  , legend_title = \"Carteira\"\n",
    "                  , font = dict(size = 13, color = \"Black\")\n",
    "                 )\n",
    "fig.update_layout(hovermode = \"x\")\n",
    "\n",
    "fig.show()"
   ]
  },
  {
   "cell_type": "code",
   "execution_count": null,
   "id": "df4554cc",
   "metadata": {},
   "outputs": [],
   "source": [
    "# Mas estes resíduos são estacionários?\n",
    "\n",
    "adf_diff1 = adfuller(residuo_norm)\n",
    "print(\"ADF Test Statistic: %.2f\" % adf_diff1[0])\n",
    "print(\"5%% Critical Value: %.2f\" % adf_diff1[4]['5%'])\n",
    "print(\"p-value: %.2f\" % adf_diff1[1])"
   ]
  },
  {
   "cell_type": "code",
   "execution_count": null,
   "id": "f78c7b5b",
   "metadata": {
    "scrolled": true
   },
   "outputs": [],
   "source": [
    "# Vamos pegar a base recente\n",
    "\n",
    "start = \"2022-11-01\"\n",
    "end = datetime.today().strftime(\"%Y-%m-%d\")\n",
    "\n",
    "tickers = [a1, a2]\n",
    "\n",
    "ativos_ls = []\n",
    "for ticker in tickers:\n",
    "    try:\n",
    "        print(ticker)\n",
    "        cotacoes = yf.download(ticker, start, end)[\"Adj Close\"]\n",
    "        cotacoes = pd.DataFrame(cotacoes)\n",
    "        cotacoes.columns = [ticker]\n",
    "        ativos_ls.append(cotacoes)\n",
    "    except:\n",
    "        pass\n",
    "    base_ls = pd.concat(ativos_ls, axis = 1)\n",
    "base_ls.sort_index(inplace = True)\n",
    "base_ls.head()\n",
    "base_ls.dropna(inplace = True)"
   ]
  },
  {
   "cell_type": "code",
   "execution_count": null,
   "id": "e22d4639",
   "metadata": {},
   "outputs": [],
   "source": [
    "# Recalcular os resíduos\n",
    "# Atenção, pequena modificação em relação ao código da aula gravada\n",
    "\n",
    "residuo_ls = base_ls[a2] - (regressao.params[0] + beta*base_ls[a1])\n",
    "\n",
    "\n",
    "def normaliza_zscore_ls(x):\n",
    "    return (x - res_mean)/res_std\n",
    "\n",
    "\n",
    "residuo_norm_ls = normaliza_zscore_ls(residuo_ls)"
   ]
  },
  {
   "cell_type": "code",
   "execution_count": null,
   "id": "82e7c324",
   "metadata": {},
   "outputs": [],
   "source": [
    "# Agora vamos avaliar os resultados\n",
    "# Atenção, pequena modificação em relação ao código da aula gravada\n",
    "\n",
    "resultados = pd.concat([residuo_norm_ls, residuo_ls\n",
    "                        , base_ls[a1].pct_change()\n",
    "                       ,base_ls[a2].pct_change()], axis = 1)\n",
    "resultados.columns = [\"ZScore\", \"Residuo\", a1, a2]\n",
    "\n",
    "# Vamos fazer o trade com 1 desvio padrão\n",
    "dev = 1.2\n",
    "\n",
    "\n",
    "# Resíduo = a2 - (beta0 + beta*a1)\n",
    "# Se o resíduo é negativo, você vai long no spread\n",
    "# Significa que a1 é maior do que a2, então você vende a1 e compra a2\n",
    "# Em qual proporção? No beta. 1 ação de a2 para beta (X) ações de a1\n",
    "# Detalhes aqui: https://www.youtube.com/watch?v=2vSePCL156w&t=238s\n",
    "\n",
    "# Se o resíduo for positivo, você vai short no spread\n",
    "# Sifnigica que a2 é maior do que a1, então você compra ai e vende a2\n",
    "\n",
    "resultados[\"sinal\"] = 0\n",
    "\n",
    "resultados[\"sinal\"] = np.where(resultados[\"ZScore\"] < -dev, (resultados[a2] - beta*resultados[a1])\n",
    "                              , np.where(resultados[\"ZScore\"] > dev, (-resultados[a2] + beta*resultados[a1])\n",
    "                                        , 0))\n",
    "\n",
    "resultados[\"retornos_acc\"] = resultados[\"sinal\"].cumsum()"
   ]
  },
  {
   "cell_type": "code",
   "execution_count": null,
   "id": "9e386ddf",
   "metadata": {},
   "outputs": [],
   "source": [
    "resultados"
   ]
  },
  {
   "cell_type": "code",
   "execution_count": null,
   "id": "9b10c9cd",
   "metadata": {},
   "outputs": [],
   "source": [
    "#Visualiza o resultado do L&S por cointegração\n",
    "\n",
    "fig = make_subplots(rows = 1, cols = 1,\n",
    "                    shared_xaxes = True,\n",
    "                    vertical_spacing = 0.08)\n",
    "\n",
    "fig.add_trace(go.Scatter(x = resultados.index\n",
    "                         , y = resultados[\"retornos_acc\"]*100\n",
    "                         , name = \"Z Score\"\n",
    "                         ,line = dict(color = \"black\"))\n",
    "              , row = 1, col = 1)\n",
    "\n",
    "fig.update_layout(height = 600, width = 800\n",
    "                  , title_text = \"Resultado - Long & Short por cointegração \" + a1 + \" - \"+ a2\n",
    "                  , font_color = \"blue\"\n",
    "                  , title_font_color = \"black\"\n",
    "                  , xaxis_title = \"Tempo\"\n",
    "                  , yaxis_title = \"Retorno (%)\"\n",
    "                  , showlegend = False\n",
    "                  , legend_title = \"Carteira\"\n",
    "                  , font = dict(size = 13, color = \"Black\")\n",
    "                 )\n",
    "fig.update_layout(hovermode = \"x unified\")\n",
    "\n",
    "fig.show()"
   ]
  }
 ],
 "metadata": {
  "kernelspec": {
   "display_name": "Python 3 (ipykernel)",
   "language": "python",
   "name": "python3"
  },
  "language_info": {
   "codemirror_mode": {
    "name": "ipython",
    "version": 3
   },
   "file_extension": ".py",
   "mimetype": "text/x-python",
   "name": "python",
   "nbconvert_exporter": "python",
   "pygments_lexer": "ipython3",
   "version": "3.8.10"
  }
 },
 "nbformat": 4,
 "nbformat_minor": 5
}
