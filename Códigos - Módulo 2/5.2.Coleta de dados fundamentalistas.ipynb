{
 "cells": [
  {
   "cell_type": "markdown",
   "id": "2f80e7e9",
   "metadata": {},
   "source": [
    "## Aula 5.2.Coleta de dados fundamentalistas"
   ]
  },
  {
   "cell_type": "markdown",
   "id": "01b59e2d",
   "metadata": {},
   "source": [
    "### Exemplo 1 - Coletando a lista de companhias com registro na CVM"
   ]
  },
  {
   "cell_type": "markdown",
   "id": "36c93c40",
   "metadata": {},
   "source": [
    "Acessar o site https://www.rad.cvm.gov.br/ENET/frmConsultaExternaCVM.aspx"
   ]
  },
  {
   "cell_type": "code",
   "execution_count": null,
   "id": "8482e7b8",
   "metadata": {},
   "outputs": [],
   "source": [
    "import requests_html"
   ]
  },
  {
   "cell_type": "code",
   "execution_count": null,
   "id": "051201f9",
   "metadata": {},
   "outputs": [],
   "source": [
    "r = requests_html.HTMLSession().get(\"https://www.rad.cvm.gov.br/ENET/frmConsultaExternaCVM.aspx\")"
   ]
  },
  {
   "cell_type": "code",
   "execution_count": null,
   "id": "fe361288",
   "metadata": {
    "scrolled": true
   },
   "outputs": [],
   "source": [
    "r.content"
   ]
  },
  {
   "cell_type": "code",
   "execution_count": null,
   "id": "790e568f",
   "metadata": {},
   "outputs": [],
   "source": [
    "import re"
   ]
  },
  {
   "cell_type": "code",
   "execution_count": null,
   "id": "dc363857",
   "metadata": {},
   "outputs": [],
   "source": [
    "a = re.findall(r'(?<=<input name=\"hdnEmpresas\" type=\"hidden\" id=\"hdnEmpresas\" value=\")[^\"]*(?=\" />)', r.text)\n"
   ]
  },
  {
   "cell_type": "code",
   "execution_count": null,
   "id": "844d847c",
   "metadata": {},
   "outputs": [],
   "source": [
    "a = a[0]"
   ]
  },
  {
   "cell_type": "code",
   "execution_count": null,
   "id": "b585bcae",
   "metadata": {
    "scrolled": true
   },
   "outputs": [],
   "source": [
    "list(eval(a.replace(\"{ key:\", \"{'key':\").replace(\"value:\", \"'value':\")))"
   ]
  },
  {
   "cell_type": "code",
   "execution_count": null,
   "id": "b60190a5",
   "metadata": {},
   "outputs": [],
   "source": [
    "import pandas as pd"
   ]
  },
  {
   "cell_type": "code",
   "execution_count": null,
   "id": "cc1f6602",
   "metadata": {},
   "outputs": [],
   "source": [
    "pd.DataFrame(list(eval(a.replace(\"{ key:\", \"{'key':\").replace(\"value:\", \"'value':\"))))"
   ]
  },
  {
   "cell_type": "code",
   "execution_count": null,
   "id": "75874049",
   "metadata": {},
   "outputs": [],
   "source": [
    "df_empresas = pd.DataFrame(list(eval(a.replace(\"{ key:\", \"{'key':\").replace(\"value:\", \"'value':\"))))"
   ]
  },
  {
   "cell_type": "markdown",
   "id": "80919a1d",
   "metadata": {},
   "source": [
    "### Exemplo 2 - Coleta de dados da CVM simulando navegador (selenium)"
   ]
  },
  {
   "cell_type": "code",
   "execution_count": null,
   "id": "9f969096",
   "metadata": {},
   "outputs": [],
   "source": [
    "url = \"https://www.rad.cvm.gov.br/ENET/frmConsultaExternaCVM.aspx\""
   ]
  },
  {
   "cell_type": "code",
   "execution_count": null,
   "id": "9ce95727",
   "metadata": {
    "scrolled": true
   },
   "outputs": [],
   "source": [
    "!pip install selenium"
   ]
  },
  {
   "cell_type": "code",
   "execution_count": null,
   "id": "c4ba2f98",
   "metadata": {
    "scrolled": true
   },
   "outputs": [],
   "source": [
    "!pip install webdriver_manager"
   ]
  },
  {
   "cell_type": "code",
   "execution_count": null,
   "id": "81fc329c",
   "metadata": {},
   "outputs": [],
   "source": [
    "import selenium\n",
    "from selenium import webdriver\n",
    "from webdriver_manager.chrome import ChromeDriverManager"
   ]
  },
  {
   "cell_type": "code",
   "execution_count": null,
   "id": "51ebae0e",
   "metadata": {},
   "outputs": [],
   "source": [
    "driver = webdriver.Chrome(ChromeDriverManager().install())"
   ]
  },
  {
   "cell_type": "code",
   "execution_count": null,
   "id": "b0b07519",
   "metadata": {},
   "outputs": [],
   "source": [
    "driver.get(url)"
   ]
  },
  {
   "cell_type": "code",
   "execution_count": null,
   "id": "fefd501d",
   "metadata": {},
   "outputs": [],
   "source": [
    "for int_, row in df_empresas.iterrows():\n",
    "    if \"mobly\" in row[\"value\"].lower():\n",
    "        print(row[\"value\"])\n",
    "        str_mbly = row[\"value\"]"
   ]
  },
  {
   "cell_type": "code",
   "execution_count": null,
   "id": "cb32134d",
   "metadata": {},
   "outputs": [],
   "source": [
    "from selenium.webdriver.common.by import By"
   ]
  },
  {
   "cell_type": "code",
   "execution_count": null,
   "id": "96706769",
   "metadata": {},
   "outputs": [],
   "source": [
    "driver.find_element(By.XPATH, \"//input[@id='cboEmpresa']\").send_keys(str_mbly)"
   ]
  },
  {
   "cell_type": "code",
   "execution_count": null,
   "id": "f537bc24",
   "metadata": {},
   "outputs": [],
   "source": [
    "driver.find_element(By.XPATH, \"//li[@tabindex='-1']\").click()"
   ]
  },
  {
   "cell_type": "code",
   "execution_count": null,
   "id": "192c84c9",
   "metadata": {},
   "outputs": [],
   "source": [
    "from selenium.webdriver.support.ui import Select"
   ]
  },
  {
   "cell_type": "code",
   "execution_count": null,
   "id": "b1f3fc22",
   "metadata": {},
   "outputs": [],
   "source": [
    "dropdown = Select(driver.find_element(By.XPATH, \"//select[@name='cboCategorias']\"))"
   ]
  },
  {
   "cell_type": "code",
   "execution_count": null,
   "id": "03f8f496",
   "metadata": {},
   "outputs": [],
   "source": [
    "driver.find_element(By.XPATH, \"//a[@class='chosen-single']\").click()"
   ]
  },
  {
   "cell_type": "code",
   "execution_count": null,
   "id": "beb1c290",
   "metadata": {},
   "outputs": [],
   "source": [
    "driver.find_element(By.XPATH, \"//input[@id='cboCategorias_chosen_input']\").send_keys(\"ITR\")"
   ]
  },
  {
   "cell_type": "code",
   "execution_count": null,
   "id": "6a9be743",
   "metadata": {},
   "outputs": [],
   "source": [
    "driver.find_element(By.XPATH, \"//li[@data-option-array-index='41']\").click()"
   ]
  },
  {
   "cell_type": "code",
   "execution_count": null,
   "id": "a9867331",
   "metadata": {},
   "outputs": [],
   "source": [
    "driver.find_element(By.XPATH, \"//input[@id='rdPeriodo']\").click()"
   ]
  },
  {
   "cell_type": "code",
   "execution_count": null,
   "id": "fc67b2b0",
   "metadata": {},
   "outputs": [],
   "source": [
    "driver.find_element(By.XPATH, \"//input[@id='txtDataIni']\").send_keys(\"01/03/2022\")"
   ]
  },
  {
   "cell_type": "code",
   "execution_count": null,
   "id": "ee11d5cb",
   "metadata": {},
   "outputs": [],
   "source": [
    "driver.find_element(By.XPATH, \"//input[@id='txtDataFim']\").send_keys(\"01/03/2023\")"
   ]
  },
  {
   "cell_type": "code",
   "execution_count": null,
   "id": "400140b8",
   "metadata": {},
   "outputs": [],
   "source": [
    "driver.find_element(By.XPATH, \"//input[@value='Consultar']\").click()"
   ]
  },
  {
   "cell_type": "code",
   "execution_count": null,
   "id": "aa13ebf0",
   "metadata": {},
   "outputs": [],
   "source": [
    "driver.find_elements(By.XPATH, \"//table[@id='grdDocumentos']\")"
   ]
  },
  {
   "cell_type": "code",
   "execution_count": null,
   "id": "a5ef12dc",
   "metadata": {},
   "outputs": [],
   "source": [
    "table_element = driver.find_elements(By.XPATH, \"//table[@id='grdDocumentos']\")[0]"
   ]
  },
  {
   "cell_type": "code",
   "execution_count": null,
   "id": "6321fd7d",
   "metadata": {
    "scrolled": true
   },
   "outputs": [],
   "source": [
    "for index, row in enumerate(table_element.find_elements(By.CSS_SELECTOR, 'tr')):\n",
    "    if index > 0:\n",
    "        if \"Assunto\" not in row.text:\n",
    "            a = row.find_elements(By.CSS_SELECTOR, 'td')\n",
    "            cod_cvm = a[0].text\n",
    "            empresa = a[1].text\n",
    "            categoria = a[2].text\n",
    "            dt_ref = a[5].text\n",
    "            dt_entrega = a[6].text"
   ]
  },
  {
   "cell_type": "code",
   "execution_count": null,
   "id": "28fece81",
   "metadata": {},
   "outputs": [],
   "source": [
    "empresa, dt_ref"
   ]
  },
  {
   "cell_type": "code",
   "execution_count": null,
   "id": "82ac4045",
   "metadata": {},
   "outputs": [],
   "source": [
    "a[-1].find_elements(By.XPATH, \"//i[@class='fi-download']\")"
   ]
  },
  {
   "cell_type": "code",
   "execution_count": null,
   "id": "ba09b9a8",
   "metadata": {},
   "outputs": [],
   "source": [
    "a[-1].find_elements(By.XPATH, \"//i[@class='fi-download']\")[0].click()"
   ]
  },
  {
   "cell_type": "code",
   "execution_count": null,
   "id": "39c4fcf5",
   "metadata": {},
   "outputs": [],
   "source": [
    "b = a[-1].find_elements(By.XPATH, \"//i[@class='fi-download']\")[0]"
   ]
  },
  {
   "cell_type": "code",
   "execution_count": null,
   "id": "53e4d0fb",
   "metadata": {},
   "outputs": [],
   "source": [
    "b.get_attribute(\"onclick\")"
   ]
  },
  {
   "cell_type": "markdown",
   "id": "adcafcfa",
   "metadata": {},
   "source": [
    "### Exemplo 2 - Coleta de dados da CVM usando requests-html"
   ]
  },
  {
   "cell_type": "markdown",
   "id": "78e0ac88",
   "metadata": {},
   "source": [
    "No exemplo a seguir vamos primeiramente entender como o site de documentos da CVM funciona."
   ]
  },
  {
   "cell_type": "markdown",
   "id": "1a31e486",
   "metadata": {},
   "source": [
    "Vamos inicialmente inspecionar o site https://www.rad.cvm.gov.br/ENET/frmConsultaExternaCVM.aspx"
   ]
  },
  {
   "cell_type": "code",
   "execution_count": null,
   "id": "443b5b58",
   "metadata": {},
   "outputs": [],
   "source": [
    "url = \"https://www.rad.cvm.gov.br/ENET/frmConsultaExternaCVM.aspx/ListarDocumentos\""
   ]
  },
  {
   "cell_type": "code",
   "execution_count": null,
   "id": "53547382",
   "metadata": {},
   "outputs": [],
   "source": [
    "payload = { \n",
    "    \"dataDe\": '01/03/2022', \n",
    "    \"dataAte\": '01/03/2023' , \n",
    "    \"empresa\": ',025461', \n",
    "    \"setorAtividade\": '-1', \n",
    "    \"categoriaEmissor\": '-1', \n",
    "    \"situacaoEmissor\": '-1', \n",
    "    \"tipoParticipante\": '-1', \n",
    "    \"dataReferencia\": '', \n",
    "    \"categoria\": 'EST_3', \n",
    "    \"periodo\": '2', \n",
    "    \"horaIni\": '', \n",
    "    \"horaFim\": '', \n",
    "    \"palavraChave\":'',\n",
    "    \"ultimaDtRef\":'false', \n",
    "    \"tipoEmpresa\":'0', \n",
    "    \"token\": '', \n",
    "    \"versaoCaptcha\": ''\n",
    "}"
   ]
  },
  {
   "cell_type": "code",
   "execution_count": null,
   "id": "cd41123a",
   "metadata": {},
   "outputs": [],
   "source": [
    "import requests_html"
   ]
  },
  {
   "cell_type": "code",
   "execution_count": null,
   "id": "7ca279b2",
   "metadata": {},
   "outputs": [],
   "source": [
    "r = requests_html.HTMLSession().post(url, json=payload)"
   ]
  },
  {
   "cell_type": "code",
   "execution_count": null,
   "id": "1736a5ba",
   "metadata": {
    "scrolled": true
   },
   "outputs": [],
   "source": [
    "r.json()"
   ]
  },
  {
   "cell_type": "code",
   "execution_count": null,
   "id": "a454aa6b",
   "metadata": {},
   "outputs": [],
   "source": [
    "dados = r.json()[\"d\"][\"dados\"]"
   ]
  },
  {
   "cell_type": "code",
   "execution_count": null,
   "id": "e98426a5",
   "metadata": {},
   "outputs": [],
   "source": [
    "dados"
   ]
  },
  {
   "cell_type": "code",
   "execution_count": null,
   "id": "1bbf3108",
   "metadata": {},
   "outputs": [],
   "source": [
    "import re\n",
    "import pandas as pd"
   ]
  },
  {
   "cell_type": "code",
   "execution_count": null,
   "id": "0312d1d0",
   "metadata": {},
   "outputs": [],
   "source": [
    "regex = r\"(?<=02546-1)(.*?)(?=\\$&&\\*)\"\n",
    "matches = re.findall(regex, dados)"
   ]
  },
  {
   "cell_type": "code",
   "execution_count": null,
   "id": "d34c62af",
   "metadata": {},
   "outputs": [],
   "source": [
    "len(matches)"
   ]
  },
  {
   "cell_type": "code",
   "execution_count": null,
   "id": "af57d042",
   "metadata": {},
   "outputs": [],
   "source": [
    "df_docs = pd.DataFrame()\n",
    "\n",
    "for match in matches:\n",
    "    \n",
    "    # Extrair as datas\n",
    "    \n",
    "    re_datas = re.findall(r'<spanOrder>(.*?)</spanOrder>', match)\n",
    "    dt_referencia = re_datas[1]\n",
    "    dt_entrega = re_datas[2]\n",
    "    \n",
    "    # Extrair o nome da cia\n",
    "    re_cia = re.findall(r\"\\$&(.+?)\\.\\$&\", match)\n",
    "    nome_cia = re_cia[0]\n",
    "    \n",
    "    # Extrair o vetor com parametros do documento\n",
    "    re_doc = re.findall(r'</i>(.*?)</i>', match)\n",
    "    downl_args = re.findall(r\"OpenDownloadDocumentos\\('(.+?)'\\)\", re_doc[0])[0].replace(\"'\", \"\").split(\",\")\n",
    "    \n",
    "    df_docs = df_docs.append(\n",
    "        pd.DataFrame.from_dict(\n",
    "            [\n",
    "                {\n",
    "                    \"Empresa\": nome_cia, \n",
    "                    \"DT_REF\": dt_referencia, \n",
    "                    \"DT_ENTREGA\": dt_entrega, \n",
    "                    \"ARGS\": downl_args\n",
    "                }\n",
    "            ]\n",
    "        ), \n",
    "        ignore_index=True\n",
    "    )"
   ]
  },
  {
   "cell_type": "code",
   "execution_count": null,
   "id": "c647b8d3",
   "metadata": {},
   "outputs": [],
   "source": [
    "df_docs"
   ]
  },
  {
   "cell_type": "code",
   "execution_count": null,
   "id": "76ee1f88",
   "metadata": {},
   "outputs": [],
   "source": [
    "args = df_docs[\"ARGS\"].iloc[0]\n",
    "args"
   ]
  },
  {
   "cell_type": "code",
   "execution_count": null,
   "id": "db9cb7b6",
   "metadata": {},
   "outputs": [],
   "source": [
    "url = \"https://www.rad.cvm.gov.br/ENET/\"\n",
    "\n",
    "numSequencia = args[0]\n",
    "numVersao = args[1]\n",
    "numProtocolo = args[2]\n",
    "descTipo = args[3]\n",
    "\n",
    "url = url + \"frmDownloadDocumento.aspx?Tela=ext&numSequencia=\" + numSequencia + \"&numVersao=\" + numVersao + \"&numProtocolo=\" + numProtocolo + \"&descTipo=\" + descTipo + \"&CodigoInstituicao=1\";"
   ]
  },
  {
   "cell_type": "code",
   "execution_count": null,
   "id": "61a06177",
   "metadata": {},
   "outputs": [],
   "source": [
    "url"
   ]
  },
  {
   "cell_type": "code",
   "execution_count": null,
   "id": "5722c188",
   "metadata": {},
   "outputs": [],
   "source": [
    "requests_html.HTMLSession().get(url)"
   ]
  },
  {
   "cell_type": "code",
   "execution_count": null,
   "id": "9022967f",
   "metadata": {},
   "outputs": [],
   "source": [
    "numProtocolo"
   ]
  },
  {
   "cell_type": "code",
   "execution_count": null,
   "id": "f01073e7",
   "metadata": {},
   "outputs": [],
   "source": [
    "r = requests_html.HTMLSession().get(url)\n",
    "with open(f\"{numProtocolo}.zip\", 'wb') as fd:\n",
    "    for chunk in r.iter_content(chunk_size=128):\n",
    "        fd.write(chunk)"
   ]
  },
  {
   "cell_type": "code",
   "execution_count": null,
   "id": "32263679",
   "metadata": {},
   "outputs": [],
   "source": [
    "import zipfile\n",
    "\n",
    "archive = zipfile.ZipFile(f\"{numProtocolo}.zip\", 'r')\n",
    "xml_itr = archive.read('025461ITR31-03-2022v1.xml')"
   ]
  },
  {
   "cell_type": "code",
   "execution_count": null,
   "id": "30700ba2",
   "metadata": {
    "scrolled": true
   },
   "outputs": [],
   "source": [
    "xml_itr"
   ]
  },
  {
   "cell_type": "code",
   "execution_count": null,
   "id": "e59c751a",
   "metadata": {},
   "outputs": [],
   "source": [
    "!pip install xmltodict"
   ]
  },
  {
   "cell_type": "code",
   "execution_count": null,
   "id": "621a9848",
   "metadata": {},
   "outputs": [],
   "source": [
    "import xmltodict"
   ]
  },
  {
   "cell_type": "code",
   "execution_count": null,
   "id": "c49f0d33",
   "metadata": {},
   "outputs": [],
   "source": [
    "my_dict = xmltodict.parse(xml_itr)"
   ]
  },
  {
   "cell_type": "code",
   "execution_count": null,
   "id": "325843e2",
   "metadata": {
    "scrolled": true
   },
   "outputs": [],
   "source": [
    "my_dict"
   ]
  },
  {
   "cell_type": "code",
   "execution_count": null,
   "id": "94786841",
   "metadata": {},
   "outputs": [],
   "source": [
    "my_dict['XmlInformacoesTrimestraisFinanceiras']['DadosITR']['Formulario'].keys()"
   ]
  },
  {
   "cell_type": "code",
   "execution_count": null,
   "id": "f9f6925b",
   "metadata": {},
   "outputs": [],
   "source": [
    "my_dict['XmlInformacoesTrimestraisFinanceiras']['DadosITR']['Formulario']['DfConsolidadas']"
   ]
  },
  {
   "cell_type": "code",
   "execution_count": null,
   "id": "c5590873",
   "metadata": {},
   "outputs": [],
   "source": [
    "my_dict['XmlInformacoesTrimestraisFinanceiras']['DadosITR']['Formulario']['DfConsolidadas'].keys()"
   ]
  },
  {
   "cell_type": "markdown",
   "id": "23642137",
   "metadata": {},
   "source": [
    "#### Balanço Patrimonial Ativo"
   ]
  },
  {
   "cell_type": "code",
   "execution_count": null,
   "id": "bf953733",
   "metadata": {},
   "outputs": [],
   "source": [
    "doc = \"BalancoPatrimonialAtivo\""
   ]
  },
  {
   "cell_type": "code",
   "execution_count": null,
   "id": "617f1e9f",
   "metadata": {},
   "outputs": [],
   "source": [
    "my_dict['XmlInformacoesTrimestraisFinanceiras']['DadosITR']['Formulario']['DfConsolidadas'][doc]"
   ]
  },
  {
   "cell_type": "code",
   "execution_count": null,
   "id": "eb9a2e13",
   "metadata": {},
   "outputs": [],
   "source": [
    "df_bpa = pd.DataFrame()\n",
    "for row in my_dict['XmlInformacoesTrimestraisFinanceiras']['DadosITR']['Formulario']['DfConsolidadas'][doc]['Conta']:\n",
    "    df_bpa = pd.concat([df_bpa, pd.DataFrame([row])])"
   ]
  },
  {
   "cell_type": "code",
   "execution_count": null,
   "id": "e459d8a1",
   "metadata": {},
   "outputs": [],
   "source": [
    "df_bpa"
   ]
  },
  {
   "cell_type": "markdown",
   "id": "471f2840",
   "metadata": {},
   "source": [
    "#### Balanço Patrimonial Passivo"
   ]
  },
  {
   "cell_type": "code",
   "execution_count": null,
   "id": "9a67c4d4",
   "metadata": {},
   "outputs": [],
   "source": [
    "doc = \"BalancoPatrimonialPassivo\""
   ]
  },
  {
   "cell_type": "code",
   "execution_count": null,
   "id": "704e218a",
   "metadata": {},
   "outputs": [],
   "source": [
    "my_dict['XmlInformacoesTrimestraisFinanceiras']['DadosITR']['Formulario']['DfConsolidadas'][doc]"
   ]
  },
  {
   "cell_type": "code",
   "execution_count": null,
   "id": "d2250307",
   "metadata": {},
   "outputs": [],
   "source": [
    "df_bpp = pd.DataFrame()\n",
    "for row in my_dict['XmlInformacoesTrimestraisFinanceiras']['DadosITR']['Formulario']['DfConsolidadas'][doc]['Conta']:\n",
    "    df_bpp = pd.concat([df_bpp, pd.DataFrame([row])])"
   ]
  },
  {
   "cell_type": "code",
   "execution_count": null,
   "id": "35d6c20e",
   "metadata": {},
   "outputs": [],
   "source": [
    "df_bpp"
   ]
  }
 ],
 "metadata": {
  "kernelspec": {
   "display_name": "Python 3",
   "language": "python",
   "name": "python3"
  },
  "language_info": {
   "codemirror_mode": {
    "name": "ipython",
    "version": 3
   },
   "file_extension": ".py",
   "mimetype": "text/x-python",
   "name": "python",
   "nbconvert_exporter": "python",
   "pygments_lexer": "ipython3",
   "version": "3.8.8"
  }
 },
 "nbformat": 4,
 "nbformat_minor": 5
}
