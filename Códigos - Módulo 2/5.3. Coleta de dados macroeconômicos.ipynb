{
 "cells": [
  {
   "cell_type": "markdown",
   "id": "2f80e7e9",
   "metadata": {},
   "source": [
    "## Aula 5.3. Coleta de dados macroeconômicos"
   ]
  },
  {
   "cell_type": "markdown",
   "id": "01b59e2d",
   "metadata": {},
   "source": [
    "### Coletando dados da API do IBGE (sidra)"
   ]
  },
  {
   "cell_type": "markdown",
   "id": "a24de5a2",
   "metadata": {},
   "source": [
    "Acessar https://sidra.ibge.gov.br/home/"
   ]
  },
  {
   "cell_type": "markdown",
   "id": "1084629b",
   "metadata": {},
   "source": [
    "Utilizar o query builder disponível em https://servicodados.ibge.gov.br/api/docs/agregados?versao=3#api-bq"
   ]
  },
  {
   "cell_type": "code",
   "execution_count": null,
   "id": "cb7876fd",
   "metadata": {},
   "outputs": [],
   "source": [
    "import requests_html"
   ]
  },
  {
   "cell_type": "markdown",
   "id": "b2331006",
   "metadata": {},
   "source": [
    "### IPCA - Índice Nacional de Preços ao Consumidor Amplo"
   ]
  },
  {
   "cell_type": "markdown",
   "id": "b47a605b",
   "metadata": {},
   "source": [
    "https://www.ibge.gov.br/estatisticas/economicas/precos-e-custos/9256-indice-nacional-de-precos-ao-consumidor-amplo.html?=&t=o-que-e"
   ]
  },
  {
   "cell_type": "markdown",
   "id": "8d16929b",
   "metadata": {},
   "source": [
    "#### IPCA (Índice geral) - Variação acumulada no ano"
   ]
  },
  {
   "cell_type": "code",
   "execution_count": null,
   "id": "ef113360",
   "metadata": {},
   "outputs": [],
   "source": [
    "url = \"https://servicodados.ibge.gov.br/api/v3/agregados/7060/periodos/202001|202002|202003|202004|202005|202006|202007|202008|202009|202010|202011|202012|202101|202102|202103|202104|202105|202106|202107|202108|202109|202110|202111|202112|202201|202202|202203|202204|202205|202206|202207|202208|202209|202210|202211|202212|202301|202302/variaveis/69?localidades=N1[all]&classificacao=315[7169]\""
   ]
  },
  {
   "cell_type": "markdown",
   "id": "9bfc9ca5",
   "metadata": {},
   "source": [
    "Também chamadas de “strings literais formatadas” (formatted string literals), f-strings são strings com a letra f no início e chaves {} para realizar a interpolação de expressões."
   ]
  },
  {
   "cell_type": "code",
   "execution_count": null,
   "id": "fdde84b8",
   "metadata": {},
   "outputs": [],
   "source": [
    "url_api = \"https://servicodados.ibge.gov.br/api/v3/agregados\"\n",
    "tabela = \"7060\" \n",
    "periodos = \"202001|202002|202003|202004|202005|202006|202007|202008|202009|202010|202011|202012|202101|202102|202103|202104|202105|202106|202107|202108|202109|202110|202111|202112|202201|202202|202203|202204|202205|202206|202207|202208|202209|202210|202211|202212|202301|202302\"\n",
    "variaveis = \"69\"\n",
    "localidades = \"N1[all]\"\n",
    "classificacao = \"315[7169]\""
   ]
  },
  {
   "cell_type": "code",
   "execution_count": null,
   "id": "45c4248f",
   "metadata": {},
   "outputs": [],
   "source": [
    "url = f\"\"\"\n",
    "{url_api}/{tabela}/periodos/{periodos}/variaveis/{variaveis}?localidades={localidades}&classificacao={classificacao}\n",
    "\"\"\""
   ]
  },
  {
   "cell_type": "code",
   "execution_count": null,
   "id": "f0adf504",
   "metadata": {},
   "outputs": [],
   "source": [
    "url"
   ]
  },
  {
   "cell_type": "code",
   "execution_count": null,
   "id": "452621f2",
   "metadata": {},
   "outputs": [],
   "source": [
    "r = requests_html.HTMLSession().get(url)"
   ]
  },
  {
   "cell_type": "code",
   "execution_count": null,
   "id": "2cfd3e5e",
   "metadata": {
    "scrolled": false
   },
   "outputs": [],
   "source": [
    "r.json()"
   ]
  },
  {
   "cell_type": "code",
   "execution_count": null,
   "id": "02797d2a",
   "metadata": {},
   "outputs": [],
   "source": [
    "r.json()[0][\"resultados\"][0][\"series\"][0][\"serie\"]"
   ]
  },
  {
   "cell_type": "code",
   "execution_count": null,
   "id": "64fd7106",
   "metadata": {},
   "outputs": [],
   "source": [
    "import pandas as pd"
   ]
  },
  {
   "cell_type": "code",
   "execution_count": null,
   "id": "2b95fd76",
   "metadata": {
    "scrolled": true
   },
   "outputs": [],
   "source": [
    "pd.DataFrame(r.json()[0][\"resultados\"][0][\"series\"][0][\"serie\"].items())"
   ]
  },
  {
   "cell_type": "code",
   "execution_count": null,
   "id": "4f4136be",
   "metadata": {},
   "outputs": [],
   "source": [
    "df_ipca = pd.DataFrame(r.json()[0][\"resultados\"][0][\"series\"][0][\"serie\"].items())\n",
    "df_ipca.columns = [\"Período\", \"Acum%\"]"
   ]
  },
  {
   "cell_type": "code",
   "execution_count": null,
   "id": "1bc064f4",
   "metadata": {},
   "outputs": [],
   "source": [
    "df_ipca.head()"
   ]
  },
  {
   "cell_type": "markdown",
   "id": "443c0033",
   "metadata": {},
   "source": [
    "#### Inflação de grupo: Artigos de residência - Variação mensal"
   ]
  },
  {
   "cell_type": "code",
   "execution_count": null,
   "id": "6271f885",
   "metadata": {},
   "outputs": [],
   "source": [
    "url = \"https://servicodados.ibge.gov.br/api/v3/agregados/7060/periodos/202001|202002|202003|202004|202005|202006|202007|202008|202009|202010|202011|202012|202101|202102|202103|202104|202105|202106|202107|202108|202109|202110|202111|202112|202201|202202|202203|202204|202205|202206|202207|202208|202209|202210|202211|202212|202301|202302/variaveis/63?localidades=N1[all]&classificacao=315[7488]\""
   ]
  },
  {
   "cell_type": "code",
   "execution_count": null,
   "id": "10523d2e",
   "metadata": {},
   "outputs": [],
   "source": [
    "url_api = \"https://servicodados.ibge.gov.br/api/v3/agregados\"\n",
    "tabela = \"7060\" \n",
    "periodos = \"202001|202002|202003|202004|202005|202006|202007|202008|202009|202010|202011|202012|202101|202102|202103|202104|202105|202106|202107|202108|202109|202110|202111|202112|202201|202202|202203|202204|202205|202206|202207|202208|202209|202210|202211|202212|202301|202302\"\n",
    "\n",
    "variaveis = \"63\"\n",
    "localidades = \"N1[all]\"\n",
    "classificacao = \"315[7486]\""
   ]
  },
  {
   "cell_type": "code",
   "execution_count": null,
   "id": "04c1f9d1",
   "metadata": {},
   "outputs": [],
   "source": [
    "url = f\"\"\"\n",
    "{url_api}/{tabela}/periodos/{periodos}/variaveis/{variaveis}?localidades={localidades}&classificacao={classificacao}\n",
    "\"\"\""
   ]
  },
  {
   "cell_type": "code",
   "execution_count": null,
   "id": "d6da3dc3",
   "metadata": {},
   "outputs": [],
   "source": [
    "r = requests_html.HTMLSession().get(url)"
   ]
  },
  {
   "cell_type": "code",
   "execution_count": null,
   "id": "bfae2aa9",
   "metadata": {},
   "outputs": [],
   "source": [
    "r.json()"
   ]
  },
  {
   "cell_type": "code",
   "execution_count": null,
   "id": "9d61adab",
   "metadata": {},
   "outputs": [],
   "source": [
    "r.json()[0][\"resultados\"][0][\"series\"][0][\"serie\"]"
   ]
  },
  {
   "cell_type": "code",
   "execution_count": null,
   "id": "36a2ff9f",
   "metadata": {},
   "outputs": [],
   "source": [
    "pd.DataFrame(r.json()[0][\"resultados\"][0][\"series\"][0][\"serie\"].items())"
   ]
  },
  {
   "cell_type": "code",
   "execution_count": null,
   "id": "c18b5df6",
   "metadata": {},
   "outputs": [],
   "source": [
    "df_grupo = pd.DataFrame(r.json()[0][\"resultados\"][0][\"series\"][0][\"serie\"].items())\n",
    "df_grupo.columns = [\"Período\", \"Var%\"]"
   ]
  },
  {
   "cell_type": "code",
   "execution_count": null,
   "id": "3b258cc6",
   "metadata": {},
   "outputs": [],
   "source": [
    "df_grupo.head()"
   ]
  },
  {
   "cell_type": "markdown",
   "id": "5fcc1e9a",
   "metadata": {},
   "source": [
    "#### Inflação de subgrupo: Móveis e utensílios - Variação acumulada em 12 meses"
   ]
  },
  {
   "cell_type": "code",
   "execution_count": null,
   "id": "7a471d96",
   "metadata": {},
   "outputs": [],
   "source": [
    "url = \"https://servicodados.ibge.gov.br/api/v3/agregados/7060/periodos/202001|202002|202003|202004|202005|202006|202007|202008|202009|202010|202011|202012|202101|202102|202103|202104|202105|202106|202107|202108|202109|202110|202111|202112|202201|202202|202203|202204|202205|202206|202207|202208|202209|202210|202211|202212|202301|202302/variaveis/2265?localidades=N1[all]|N7[3501]&classificacao=315[7487]\""
   ]
  },
  {
   "cell_type": "code",
   "execution_count": null,
   "id": "36b65d57",
   "metadata": {},
   "outputs": [],
   "source": [
    "url_api = \"https://servicodados.ibge.gov.br/api/v3/agregados\"\n",
    "tabela = \"7060\" \n",
    "periodos = \"202001|202002|202003|202004|202005|202006|202007|202008|202009|202010|202011|202012|202101|202102|202103|202104|202105|202106|202107|202108|202109|202110|202111|202112|202201|202202|202203|202204|202205|202206|202207|202208|202209|202210|202211|202212|202301|202302\"\n",
    "\n",
    "variaveis = \"2265\"\n",
    "localidades = \"N1[all]|N7[3501]\"\n",
    "classificacao = \"315[7487]\""
   ]
  },
  {
   "cell_type": "code",
   "execution_count": null,
   "id": "5bef8cec",
   "metadata": {},
   "outputs": [],
   "source": [
    "url = f\"\"\"\n",
    "{url_api}/{tabela}/periodos/{periodos}/variaveis/{variaveis}?localidades={localidades}&classificacao={classificacao}\n",
    "\"\"\""
   ]
  },
  {
   "cell_type": "code",
   "execution_count": null,
   "id": "2a709c46",
   "metadata": {},
   "outputs": [],
   "source": [
    "r = requests_html.HTMLSession().get(url)"
   ]
  },
  {
   "cell_type": "code",
   "execution_count": null,
   "id": "60a9f064",
   "metadata": {},
   "outputs": [],
   "source": [
    "r.json()"
   ]
  },
  {
   "cell_type": "code",
   "execution_count": null,
   "id": "5c5485e1",
   "metadata": {},
   "outputs": [],
   "source": [
    "r.json()[0][\"resultados\"][0][\"series\"][1][\"serie\"]"
   ]
  },
  {
   "cell_type": "code",
   "execution_count": null,
   "id": "c057c7a0",
   "metadata": {},
   "outputs": [],
   "source": [
    "pd.DataFrame(r.json()[0][\"resultados\"][0][\"series\"][1][\"serie\"].items())"
   ]
  },
  {
   "cell_type": "code",
   "execution_count": null,
   "id": "75fdea66",
   "metadata": {},
   "outputs": [],
   "source": [
    "df_subgrupo = pd.DataFrame(r.json()[0][\"resultados\"][0][\"series\"][1][\"serie\"].items())\n",
    "df_subgrupo.columns = [\"Período\", \"Acum12m%\"]"
   ]
  },
  {
   "cell_type": "code",
   "execution_count": null,
   "id": "fece0c0d",
   "metadata": {},
   "outputs": [],
   "source": [
    "df_subgrupo.head()"
   ]
  },
  {
   "cell_type": "markdown",
   "id": "364afed5",
   "metadata": {},
   "source": [
    "#### Inflação de item: Mobiliario - Variação acumulada em 12 meses"
   ]
  },
  {
   "cell_type": "code",
   "execution_count": null,
   "id": "f2a6c17b",
   "metadata": {},
   "outputs": [],
   "source": [
    "url = \"https://servicodados.ibge.gov.br/api/v3/agregados/7060/periodos/202001|202002|202003|202004|202005|202006|202007|202008|202009|202010|202011|202012|202101|202102|202103|202104|202105|202106|202107|202108|202109|202110|202111|202112|202201|202202|202203|202204|202205|202206|202207|202208|202209|202210|202211|202212|202301|202302/variaveis/2265?localidades=N1[all]|N7[3301,3501]&classificacao=315[7488]\""
   ]
  },
  {
   "cell_type": "code",
   "execution_count": null,
   "id": "1e671f5d",
   "metadata": {},
   "outputs": [],
   "source": [
    "url_api = \"https://servicodados.ibge.gov.br/api/v3/agregados\"\n",
    "tabela = \"7060\" \n",
    "periodos = \"202001|202002|202003|202004|202005|202006|202007|202008|202009|202010|202011|202012|202101|202102|202103|202104|202105|202106|202107|202108|202109|202110|202111|202112|202201|202202|202203|202204|202205|202206|202207|202208|202209|202210|202211|202212|202301|202302\"\n",
    "\n",
    "variaveis = \"2265\"\n",
    "localidades = \"N1[all]|N7[3301,3501]\"\n",
    "classificacao = \"315[7488]\""
   ]
  },
  {
   "cell_type": "code",
   "execution_count": null,
   "id": "a9012313",
   "metadata": {},
   "outputs": [],
   "source": [
    "url = f\"\"\"\n",
    "{url_api}/{tabela}/periodos/{periodos}/variaveis/{variaveis}?localidades={localidades}&classificacao={classificacao}\n",
    "\"\"\""
   ]
  },
  {
   "cell_type": "code",
   "execution_count": null,
   "id": "775a3353",
   "metadata": {},
   "outputs": [],
   "source": [
    "r = requests_html.HTMLSession().get(url)"
   ]
  },
  {
   "cell_type": "code",
   "execution_count": null,
   "id": "7e1663a1",
   "metadata": {},
   "outputs": [],
   "source": [
    "r.json()"
   ]
  },
  {
   "cell_type": "code",
   "execution_count": null,
   "id": "7e15a923",
   "metadata": {},
   "outputs": [],
   "source": [
    "r.json()[0][\"resultados\"][0][\"series\"][1][\"serie\"]"
   ]
  },
  {
   "cell_type": "code",
   "execution_count": null,
   "id": "0d32280c",
   "metadata": {},
   "outputs": [],
   "source": [
    "pd.DataFrame(r.json()[0][\"resultados\"][0][\"series\"][1][\"serie\"].items())"
   ]
  },
  {
   "cell_type": "code",
   "execution_count": null,
   "id": "72424352",
   "metadata": {},
   "outputs": [],
   "source": [
    "df_item = pd.DataFrame(r.json()[0][\"resultados\"][0][\"series\"][1][\"serie\"].items())\n",
    "df_item.columns = [\"Período\", \"Acum12m%\"]"
   ]
  },
  {
   "cell_type": "code",
   "execution_count": null,
   "id": "8b3a4106",
   "metadata": {},
   "outputs": [],
   "source": [
    "df_item.tail()"
   ]
  },
  {
   "cell_type": "markdown",
   "id": "61e48ac1",
   "metadata": {},
   "source": [
    "#### Inflação de subitem: Móvel para sala - Variação acumulada em 12 meses"
   ]
  },
  {
   "cell_type": "code",
   "execution_count": null,
   "id": "8bc097e7",
   "metadata": {},
   "outputs": [],
   "source": [
    "url = \"https://servicodados.ibge.gov.br/api/v3/agregados/7060/periodos/202001|202002|202003|202004|202005|202006|202007|202008|202009|202010|202011|202012|202101|202102|202103|202104|202105|202106|202107|202108|202109|202110|202111|202112|202201|202202|202203|202204|202205|202206|202207|202208|202209|202210|202211|202212|202301|202302/variaveis/2265?localidades=N1[all]|N7[3301,3501]&classificacao=315[7489]\""
   ]
  },
  {
   "cell_type": "code",
   "execution_count": null,
   "id": "2b9e78b2",
   "metadata": {},
   "outputs": [],
   "source": [
    "url_api = \"https://servicodados.ibge.gov.br/api/v3/agregados\"\n",
    "tabela = \"7060\" \n",
    "periodos = \"202001|202002|202003|202004|202005|202006|202007|202008|202009|202010|202011|202012|202101|202102|202103|202104|202105|202106|202107|202108|202109|202110|202111|202112|202201|202202|202203|202204|202205|202206|202207|202208|202209|202210|202211|202212|202301|202302\"\n",
    "\n",
    "variaveis = \"2265\"\n",
    "localidades = \"N1[all]|N7[3301,3501]\"\n",
    "classificacao = \"315[7489]\""
   ]
  },
  {
   "cell_type": "code",
   "execution_count": null,
   "id": "5bd9b4af",
   "metadata": {},
   "outputs": [],
   "source": [
    "url = f\"\"\"\n",
    "{url_api}/{tabela}/periodos/{periodos}/variaveis/{variaveis}?localidades={localidades}&classificacao={classificacao}\n",
    "\"\"\""
   ]
  },
  {
   "cell_type": "code",
   "execution_count": null,
   "id": "af49c616",
   "metadata": {},
   "outputs": [],
   "source": [
    "r = requests_html.HTMLSession().get(url)"
   ]
  },
  {
   "cell_type": "code",
   "execution_count": null,
   "id": "4e245a6e",
   "metadata": {},
   "outputs": [],
   "source": [
    "r.json()"
   ]
  },
  {
   "cell_type": "code",
   "execution_count": null,
   "id": "30ac63e4",
   "metadata": {},
   "outputs": [],
   "source": [
    "r.json()[0][\"resultados\"][0][\"series\"][2][\"serie\"]"
   ]
  },
  {
   "cell_type": "code",
   "execution_count": null,
   "id": "cd6135da",
   "metadata": {},
   "outputs": [],
   "source": [
    "pd.DataFrame(r.json()[0][\"resultados\"][0][\"series\"][2][\"serie\"].items())"
   ]
  },
  {
   "cell_type": "code",
   "execution_count": null,
   "id": "cbbba1cf",
   "metadata": {},
   "outputs": [],
   "source": [
    "df_subitem = pd.DataFrame(r.json()[0][\"resultados\"][0][\"series\"][2][\"serie\"].items())\n",
    "df_subitem.columns = [\"Período\", \"Acum12m%\"]"
   ]
  },
  {
   "cell_type": "code",
   "execution_count": null,
   "id": "cb649763",
   "metadata": {},
   "outputs": [],
   "source": [
    "df_subitem.tail()"
   ]
  },
  {
   "cell_type": "markdown",
   "id": "ae0ce32f",
   "metadata": {},
   "source": [
    "### PIMPF - Pesquisa Industrial Mensal"
   ]
  },
  {
   "cell_type": "code",
   "execution_count": null,
   "id": "fbbdfae7",
   "metadata": {},
   "outputs": [],
   "source": [
    "url = \"https://servicodados.ibge.gov.br/api/v3/agregados/7511/periodos/200201|200202|200203|200204|200205|200206|200207|200208|200209|200210|200211|200212|200301|200302|200303|200304|200305|200306|200307|200308|200309|200310|200311|200312|200401|200402|200403|200404|200405|200406|200407|200408|200409|200410|200411|200412|200501|200502|200503|200504|200505|200506|200507|200508|200509|200510|200511|200512|200601|200602|200603|200604|200605|200606|200607|200608|200609|200610|200611|200612|200701|200702|200703|200704|200705|200706|200707|200708|200709|200710|200711|200712|200801|200802|200803|200804|200805|200806|200807|200808|200809|200810|200811|200812|200901|200902|200903|200904|200905|200906|200907|200908|200909|200910|200911|200912|201001|201002|201003|201004|201005|201006|201007|201008|201009|201010|201011|201012|201101|201102|201103|201104|201105|201106|201107|201108|201109|201110|201111|201112|201201|201202|201203|201204|201205|201206|201207|201208|201209|201210|201211|201212|201301|201302|201303|201304|201305|201306|201307|201308|201309|201310|201311|201312|201401|201402|201403|201404|201405|201406|201407|201408|201409|201410|201411|201412|201501|201502|201503|201504|201505|201506|201507|201508|201509|201510|201511|201512|201601|201602|201603|201604|201605|201606|201607|201608|201609|201610|201611|201612|201701|201702|201703|201704|201705|201706|201707|201708|201709|201710|201711|201712|201801|201802|201803|201804|201805|201806|201807|201808|201809|201810|201811|201812|201901|201902|201903|201904|201905|201906|201907|201908|201909|201910|201911|201912|202001|202002|202003|202004|202005|202006|202007|202008|202009|202010|202011|202012|202101|202102|202103|202104|202105|202106|202107|202108|202109|202110|202111|202112|202201|202202|202203|202204|202205|202206|202207|202208|202209|202210|202211|202212/variaveis/11599?localidades=N1[all]&classificacao=542[129272]\""
   ]
  },
  {
   "cell_type": "code",
   "execution_count": null,
   "id": "1a6ee9fe",
   "metadata": {},
   "outputs": [],
   "source": [
    "url_api = \"https://servicodados.ibge.gov.br/api/v3/agregados\"\n",
    "tabela = \"7511\" \n",
    "periodos = \"202001|202002|202003|202004|202005|202006|202007|202008|202009|202010|202011|202012|202101|202102|202103|202104|202105|202106|202107|202108|202109|202110|202111|202112|202201|202202|202203|202204|202205|202206|202207|202208|202209|202210|202211|202212|202301|202302\"\n",
    "variaveis = \"11599\"\n",
    "localidades = \"N1[all]\"\n",
    "classificacao = \"542[129272]\""
   ]
  },
  {
   "cell_type": "code",
   "execution_count": null,
   "id": "c7da35a7",
   "metadata": {},
   "outputs": [],
   "source": [
    "url = f\"\"\"\n",
    "{url_api}/{tabela}/periodos/{periodos}/variaveis/{variaveis}?localidades={localidades}&classificacao={classificacao}\n",
    "\"\"\""
   ]
  },
  {
   "cell_type": "code",
   "execution_count": null,
   "id": "b665e565",
   "metadata": {},
   "outputs": [],
   "source": [
    "r = requests_html.HTMLSession().get(url)"
   ]
  },
  {
   "cell_type": "code",
   "execution_count": null,
   "id": "1795d5dd",
   "metadata": {
    "scrolled": true
   },
   "outputs": [],
   "source": [
    "r.json()"
   ]
  },
  {
   "cell_type": "code",
   "execution_count": null,
   "id": "8c110b39",
   "metadata": {
    "scrolled": true
   },
   "outputs": [],
   "source": [
    "pd.DataFrame(r.json()[0][\"resultados\"][0][\"series\"][0][\"serie\"].items())"
   ]
  },
  {
   "cell_type": "code",
   "execution_count": null,
   "id": "c3c965d9",
   "metadata": {},
   "outputs": [],
   "source": [
    "df_prod = pd.DataFrame(r.json()[0][\"resultados\"][0][\"series\"][0][\"serie\"].items())\n",
    "df_prod.columns = [\"Período\", \"Número-índice\"]"
   ]
  },
  {
   "cell_type": "code",
   "execution_count": null,
   "id": "c7c9c09b",
   "metadata": {
    "scrolled": true
   },
   "outputs": [],
   "source": [
    "df_prod"
   ]
  }
 ],
 "metadata": {
  "kernelspec": {
   "display_name": "Python 3",
   "language": "python",
   "name": "python3"
  },
  "language_info": {
   "codemirror_mode": {
    "name": "ipython",
    "version": 3
   },
   "file_extension": ".py",
   "mimetype": "text/x-python",
   "name": "python",
   "nbconvert_exporter": "python",
   "pygments_lexer": "ipython3",
   "version": "3.8.8"
  }
 },
 "nbformat": 4,
 "nbformat_minor": 5
}
