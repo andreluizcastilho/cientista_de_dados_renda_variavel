{
 "cells": [
  {
   "cell_type": "markdown",
   "id": "63115e50",
   "metadata": {},
   "source": [
    "# Capítulo 5 – Desenvolvimento de web crawlers (hands-on)"
   ]
  },
  {
   "cell_type": "markdown",
   "id": "875e1c2c",
   "metadata": {},
   "source": [
    "## Aula 5.1. Coleta de dados de mercado"
   ]
  },
  {
   "cell_type": "markdown",
   "id": "71f787db",
   "metadata": {},
   "source": [
    "### Exemplo 1 - Coleta de dados da API Yahoo! Finance"
   ]
  },
  {
   "cell_type": "markdown",
   "id": "ec2f8714",
   "metadata": {},
   "source": [
    "No exemplo a seguir vamos fazer requisições para a série de preços e volume (OHLCV) da ação MBLY3"
   ]
  },
  {
   "cell_type": "markdown",
   "id": "c4294f32",
   "metadata": {},
   "source": [
    "Insatalação da biblioteca yfinance"
   ]
  },
  {
   "cell_type": "code",
   "execution_count": null,
   "id": "8da21994",
   "metadata": {
    "scrolled": true
   },
   "outputs": [],
   "source": [
    "!pip install yfinance"
   ]
  },
  {
   "cell_type": "markdown",
   "id": "6c69ebfa",
   "metadata": {},
   "source": [
    "Importar a biblioteca yfinance"
   ]
  },
  {
   "cell_type": "code",
   "execution_count": null,
   "id": "2a7b3c2f",
   "metadata": {},
   "outputs": [],
   "source": [
    "import yfinance as yf"
   ]
  },
  {
   "cell_type": "markdown",
   "id": "674e3116",
   "metadata": {},
   "source": [
    "Definimos o instrumento a ser requisitado"
   ]
  },
  {
   "cell_type": "markdown",
   "id": "23408b09",
   "metadata": {},
   "source": [
    "Para isso, primeiro conferir o ticker do instrumento acessando https://finance.yahoo.com/"
   ]
  },
  {
   "cell_type": "code",
   "execution_count": null,
   "id": "40de3467",
   "metadata": {},
   "outputs": [],
   "source": [
    "MBLY3 = yf.Ticker(\"MBLY3.SA\")"
   ]
  },
  {
   "cell_type": "code",
   "execution_count": null,
   "id": "b254b818",
   "metadata": {},
   "outputs": [],
   "source": [
    "df_hist = MBLY3.history(period=\"5y\", interval=\"1d\")"
   ]
  },
  {
   "cell_type": "code",
   "execution_count": null,
   "id": "61095469",
   "metadata": {
    "scrolled": true
   },
   "outputs": [],
   "source": [
    "df_hist.head()"
   ]
  },
  {
   "cell_type": "code",
   "execution_count": null,
   "id": "8458f614",
   "metadata": {},
   "outputs": [],
   "source": [
    "df_hist.tail()"
   ]
  },
  {
   "cell_type": "markdown",
   "id": "12981fee",
   "metadata": {},
   "source": [
    "### Exemplo 2 - Coleta de dados de mercado de outros provedores via API"
   ]
  },
  {
   "cell_type": "markdown",
   "id": "501a0d24",
   "metadata": {},
   "source": [
    "#### Exemplo 2.1 - Marketstack (https://marketstack.com/)"
   ]
  },
  {
   "cell_type": "code",
   "execution_count": null,
   "id": "44a1224e",
   "metadata": {},
   "outputs": [],
   "source": [
    "key = \"\""
   ]
  },
  {
   "cell_type": "code",
   "execution_count": null,
   "id": "06c8de98",
   "metadata": {},
   "outputs": [],
   "source": [
    "import requests\n",
    "\n",
    "url = f\"http://api.marketstack.com/v1/eod?access_key={key}&symbols=MBLY3.BVMF\"\n",
    "\n",
    "r = requests.get(url)"
   ]
  },
  {
   "cell_type": "code",
   "execution_count": null,
   "id": "89fb5255",
   "metadata": {},
   "outputs": [],
   "source": [
    "r.json()"
   ]
  },
  {
   "cell_type": "code",
   "execution_count": null,
   "id": "2fa8a997",
   "metadata": {},
   "outputs": [],
   "source": [
    "import pandas as pd"
   ]
  },
  {
   "cell_type": "code",
   "execution_count": null,
   "id": "3691f946",
   "metadata": {},
   "outputs": [],
   "source": [
    "df = pd.DataFrame(r.json()[\"data\"])\n",
    "df"
   ]
  },
  {
   "cell_type": "markdown",
   "id": "eade6f61",
   "metadata": {},
   "source": [
    "#### Exemplo 2.2 - Alphavantage (https://www.alphavantage.co/)"
   ]
  },
  {
   "cell_type": "code",
   "execution_count": null,
   "id": "7e153b74",
   "metadata": {},
   "outputs": [],
   "source": [
    "key = \"\""
   ]
  },
  {
   "cell_type": "code",
   "execution_count": null,
   "id": "df6a65dd",
   "metadata": {},
   "outputs": [],
   "source": [
    "url = f\"https://www.alphavantage.co/query?function=SYMBOL_SEARCH&keywords=mbly&apikey={key}\""
   ]
  },
  {
   "cell_type": "code",
   "execution_count": null,
   "id": "b2d40b0c",
   "metadata": {},
   "outputs": [],
   "source": [
    "r = requests.get(url)"
   ]
  },
  {
   "cell_type": "code",
   "execution_count": null,
   "id": "4a7bef0c",
   "metadata": {},
   "outputs": [],
   "source": [
    "r.json()"
   ]
  },
  {
   "cell_type": "code",
   "execution_count": null,
   "id": "490bc991",
   "metadata": {},
   "outputs": [],
   "source": [
    "url = f\"https://www.alphavantage.co/query?function=TIME_SERIES_DAILY_ADJUSTED&symbol=MBLY3.SAO&apikey={key}\""
   ]
  },
  {
   "cell_type": "code",
   "execution_count": null,
   "id": "bfe92e82",
   "metadata": {},
   "outputs": [],
   "source": [
    "r = requests.get(url)"
   ]
  },
  {
   "cell_type": "code",
   "execution_count": null,
   "id": "675ad1ca",
   "metadata": {},
   "outputs": [],
   "source": [
    "r.json()"
   ]
  },
  {
   "cell_type": "code",
   "execution_count": null,
   "id": "7579307f",
   "metadata": {},
   "outputs": [],
   "source": [
    "pd.DataFrame(r.json()['Time Series (Daily)'])"
   ]
  },
  {
   "cell_type": "code",
   "execution_count": null,
   "id": "3260d455",
   "metadata": {},
   "outputs": [],
   "source": [
    "pd.DataFrame(r.json()['Time Series (Daily)']).T"
   ]
  },
  {
   "cell_type": "markdown",
   "id": "5693ddae",
   "metadata": {},
   "source": [
    "#### Exemplo 2.3 - EOD (https://eodhistoricaldata.com/)"
   ]
  },
  {
   "cell_type": "code",
   "execution_count": null,
   "id": "2551704a",
   "metadata": {},
   "outputs": [],
   "source": [
    "key = \"\""
   ]
  },
  {
   "cell_type": "code",
   "execution_count": null,
   "id": "6c0ddd2f",
   "metadata": {},
   "outputs": [],
   "source": [
    "url = f\"https://eodhistoricaldata.com/api/exchanges-list/?api_token={key}&fmt=json\""
   ]
  },
  {
   "cell_type": "code",
   "execution_count": null,
   "id": "4c63a16e",
   "metadata": {},
   "outputs": [],
   "source": [
    "r = requests.get(url)"
   ]
  },
  {
   "cell_type": "code",
   "execution_count": null,
   "id": "3b1f1324",
   "metadata": {},
   "outputs": [],
   "source": [
    "r.json()"
   ]
  },
  {
   "cell_type": "code",
   "execution_count": null,
   "id": "1b4ff7f0",
   "metadata": {},
   "outputs": [],
   "source": [
    "EXCHANGE_CODE = \"SA\""
   ]
  },
  {
   "cell_type": "code",
   "execution_count": null,
   "id": "5e981528",
   "metadata": {},
   "outputs": [],
   "source": [
    "url = f\"https://eodhistoricaldata.com/api/exchange-symbol-list/{EXCHANGE_CODE}?api_token={key}&fmt=json\""
   ]
  },
  {
   "cell_type": "code",
   "execution_count": null,
   "id": "1d133ed9",
   "metadata": {},
   "outputs": [],
   "source": [
    "r = requests.get(url)"
   ]
  },
  {
   "cell_type": "code",
   "execution_count": null,
   "id": "86ee5374",
   "metadata": {},
   "outputs": [],
   "source": [
    "r.json()"
   ]
  },
  {
   "cell_type": "code",
   "execution_count": null,
   "id": "43760e5f",
   "metadata": {},
   "outputs": [],
   "source": [
    "for dict_company in r.json():    \n",
    "    if \"mobly\" in dict_company[\"Name\"].lower():\n",
    "        code = dict_company[\"Code\"]"
   ]
  },
  {
   "cell_type": "code",
   "execution_count": null,
   "id": "0940cec8",
   "metadata": {},
   "outputs": [],
   "source": [
    "url = f\"https://eodhistoricaldata.com/api/eod/{code}.{EXCHANGE_CODE}?api_token={key}&fmt=json\""
   ]
  },
  {
   "cell_type": "code",
   "execution_count": null,
   "id": "f8a87fb0",
   "metadata": {},
   "outputs": [],
   "source": [
    "r = requests.get(url)"
   ]
  },
  {
   "cell_type": "code",
   "execution_count": null,
   "id": "ffa7afb3",
   "metadata": {},
   "outputs": [],
   "source": [
    "r.json()"
   ]
  },
  {
   "cell_type": "code",
   "execution_count": null,
   "id": "24c9abbb",
   "metadata": {},
   "outputs": [],
   "source": [
    "pd.DataFrame(r.json())"
   ]
  },
  {
   "cell_type": "markdown",
   "id": "9aa47316",
   "metadata": {},
   "source": [
    "### Exemplo 3 - Coleta de dados de derivativos da B3"
   ]
  },
  {
   "cell_type": "markdown",
   "id": "e9d7c92e",
   "metadata": {},
   "source": [
    "Primeiro vamos inspecionar o site https://www.b3.com.br/pt_br/market-data-e-indices/servicos-de-dados/market-data/historico/derivativos/ajustes-do-pregao/"
   ]
  },
  {
   "cell_type": "code",
   "execution_count": null,
   "id": "247910af",
   "metadata": {},
   "outputs": [],
   "source": [
    "url = \"https://www2.bmf.com.br/pages/portal/bmfbovespa/lumis/lum-ajustes-do-pregao-ptBR.asp\""
   ]
  },
  {
   "cell_type": "code",
   "execution_count": null,
   "id": "53224b69",
   "metadata": {},
   "outputs": [],
   "source": [
    "query = {\n",
    "    \"dData1\": \"10/03/2023\"\n",
    "}"
   ]
  },
  {
   "cell_type": "code",
   "execution_count": null,
   "id": "6f65849d",
   "metadata": {},
   "outputs": [],
   "source": [
    "import requests"
   ]
  },
  {
   "cell_type": "code",
   "execution_count": null,
   "id": "88da1a0d",
   "metadata": {},
   "outputs": [],
   "source": [
    "r = requests.post(\n",
    "    url, \n",
    "    params=query\n",
    ")"
   ]
  },
  {
   "cell_type": "code",
   "execution_count": null,
   "id": "638b96eb",
   "metadata": {},
   "outputs": [],
   "source": [
    "r.content"
   ]
  },
  {
   "cell_type": "code",
   "execution_count": null,
   "id": "18e970bf",
   "metadata": {
    "scrolled": true
   },
   "outputs": [],
   "source": [
    "!pip install requests-html"
   ]
  },
  {
   "cell_type": "code",
   "execution_count": null,
   "id": "1236693c",
   "metadata": {},
   "outputs": [],
   "source": [
    "import requests_html"
   ]
  },
  {
   "cell_type": "code",
   "execution_count": null,
   "id": "9241866d",
   "metadata": {},
   "outputs": [],
   "source": [
    "table_html = r.html.xpath(\"//table[contains(@id,'tblDadosAjustes')]\")"
   ]
  },
  {
   "cell_type": "code",
   "execution_count": null,
   "id": "5081ec81",
   "metadata": {},
   "outputs": [],
   "source": [
    "r = requests_html.HTMLSession().post(\n",
    "    url, \n",
    "    params=query\n",
    ")"
   ]
  },
  {
   "cell_type": "code",
   "execution_count": null,
   "id": "d39cc769",
   "metadata": {},
   "outputs": [],
   "source": [
    "table_html = r.html.xpath(\"//table[contains(@id,'tblDadosAjustes')]\")"
   ]
  },
  {
   "cell_type": "code",
   "execution_count": null,
   "id": "fc94b795",
   "metadata": {},
   "outputs": [],
   "source": [
    "len(table_html)"
   ]
  },
  {
   "cell_type": "code",
   "execution_count": null,
   "id": "00a82cb1",
   "metadata": {},
   "outputs": [],
   "source": [
    "table_html[0].full_text"
   ]
  },
  {
   "cell_type": "code",
   "execution_count": null,
   "id": "b45a2261",
   "metadata": {},
   "outputs": [],
   "source": [
    "for element_ in table_html[0].xpath(\"//tr\"):\n",
    "    print(element_.text.split(\"\\n\"))"
   ]
  },
  {
   "cell_type": "code",
   "execution_count": null,
   "id": "4149b971",
   "metadata": {},
   "outputs": [],
   "source": [
    "list_linhas = []\n",
    "\n",
    "for element_ in table_html[0].xpath(\"//tr\")[1:]:\n",
    "    if len(element_.text.split(\"\\n\")) == 6:\n",
    "        instrumento = element_.text.split(\"\\n\")[0]\n",
    "        linha = element_.text.split(\"\\n\")\n",
    "    if len(element_.text.split(\"\\n\")) == 5:\n",
    "        linha = [instrumento] + element_.text.split(\"\\n\")        \n",
    "    list_linhas.append(linha)"
   ]
  },
  {
   "cell_type": "code",
   "execution_count": null,
   "id": "c5d75077",
   "metadata": {},
   "outputs": [],
   "source": [
    "list_linhas"
   ]
  },
  {
   "cell_type": "code",
   "execution_count": null,
   "id": "9d8fd510",
   "metadata": {},
   "outputs": [],
   "source": [
    "table_html[0].xpath(\"//tr\")[0].text.split(\"\\n\")"
   ]
  },
  {
   "cell_type": "code",
   "execution_count": null,
   "id": "d017eb2b",
   "metadata": {},
   "outputs": [],
   "source": [
    "import pandas as pd"
   ]
  },
  {
   "cell_type": "code",
   "execution_count": null,
   "id": "fce4eeb0",
   "metadata": {},
   "outputs": [],
   "source": [
    "df_futuros = pd.DataFrame(list_linhas, columns=table_html[0].xpath(\"//tr\")[0].text.split(\"\\n\"))"
   ]
  },
  {
   "cell_type": "code",
   "execution_count": null,
   "id": "4d9254e3",
   "metadata": {},
   "outputs": [],
   "source": [
    "df_futuros.head()"
   ]
  },
  {
   "cell_type": "code",
   "execution_count": null,
   "id": "afa6215d",
   "metadata": {},
   "outputs": [],
   "source": [
    "df_futuros.tail()"
   ]
  }
 ],
 "metadata": {
  "kernelspec": {
   "display_name": "xp_crv",
   "language": "python",
   "name": "xp_crv"
  },
  "language_info": {
   "codemirror_mode": {
    "name": "ipython",
    "version": 3
   },
   "file_extension": ".py",
   "mimetype": "text/x-python",
   "name": "python",
   "nbconvert_exporter": "python",
   "pygments_lexer": "ipython3",
   "version": "3.10.9"
  }
 },
 "nbformat": 4,
 "nbformat_minor": 5
}
